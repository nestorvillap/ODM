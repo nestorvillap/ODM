{
 "cells": [
  {
   "cell_type": "markdown",
   "id": "8908950a-0e75-4c3b-954d-74f1d0265851",
   "metadata": {},
   "source": [
    "# Consultas MONGODB\n",
    "\n",
    "Nicolás Fernández y Néstor Villa"
   ]
  },
  {
   "cell_type": "code",
   "execution_count": 1,
   "id": "91ef9cbb-c79e-4337-85a3-550a1537f4b3",
   "metadata": {},
   "outputs": [],
   "source": [
    "# Importamos las clases y el método init_app\n",
    "from models import Cliente, Producto, Compra, Proveedor, init_app\n",
    "from bson import ObjectId\n",
    "from datetime import datetime\n",
    "\n",
    "# Iniciamos la conexión a la base de datos\n",
    "init_app()"
   ]
  },
  {
   "cell_type": "code",
   "execution_count": 2,
   "id": "a4c84e54",
   "metadata": {},
   "outputs": [
    {
     "name": "stdout",
     "output_type": "stream",
     "text": [
      "Cliente: Carlos López, Compras: ['671e87d26018dfcfed0451fc', '671e87d26018dfcfed045202', '671e87d26018dfcfed045203', '671e87d26018dfcfed045204', '671e87d36018dfcfed04520a', '671e87d36018dfcfed04520b', '671e87d36018dfcfed04520e']\n",
      "Cliente: Ana Sánchez, Compras: ['671e87d26018dfcfed045207', '671e87d36018dfcfed04520c']\n",
      "Cliente: Luis Martínez, Compras: ['671e87d26018dfcfed0451fb', '671e87d26018dfcfed045201', '671e87d26018dfcfed045208']\n",
      "Cliente: María Fernández, Compras: ['671e87d26018dfcfed0451f6', '671e87d26018dfcfed0451f8', '671e87d26018dfcfed0451f9', '671e87d26018dfcfed0451fa', '671e87d26018dfcfed0451fd', '671e87d26018dfcfed0451fe', '671e87d26018dfcfed045205', '671e87d26018dfcfed045206', '671e87d36018dfcfed04520d']\n",
      "Cliente: Beatriz Gómez, Compras: ['671e87d26018dfcfed0451f7', '671e87d26018dfcfed0451ff', '671e87d26018dfcfed045200', '671e87d36018dfcfed045209', '671e87d36018dfcfed04520f', '671e87d36018dfcfed045210', '671e87d36018dfcfed045211', '671e87d36018dfcfed045212', '671e87d36018dfcfed045213']\n"
     ]
    }
   ],
   "source": [
    "#1. Listado de todas las compras de un cliente\n",
    "pipeline = [\n",
    "    {\n",
    "        \"$group\": {\n",
    "            \"_id\": \"$cliente.nombre\",\n",
    "            \"compras\": { \"$push\": { \"$toString\": \"$_id\" } }\n",
    "        }\n",
    "    },\n",
    "    {\n",
    "        \"$project\": {\n",
    "            \"nombre_cliente\": \"$_id\",\n",
    "            \"compras\": 1,\n",
    "            \"_id\": 0\n",
    "        }\n",
    "    }\n",
    "]\n",
    "\n",
    "# Ejecuta el pipeline con raw=True\n",
    "compras_cliente = list(Compra.aggregate(pipeline, raw=True))\n",
    "\n",
    "# Itera sobre los resultados\n",
    "for resultado in compras_cliente:\n",
    "    print(f\"Cliente: {resultado['nombre_cliente']}, Compras: {resultado['compras']}\")\n"
   ]
  },
  {
   "cell_type": "code",
   "execution_count": 3,
   "id": "5e7e0b29",
   "metadata": {},
   "outputs": [
    {
     "name": "stdout",
     "output_type": "stream",
     "text": [
      "Producto: Bufanda de seda, Proveedores: ['Proveedor Este']\n",
      "Producto: Vestido de fiesta, Proveedores: ['Proveedor Este']\n",
      "Producto: Gafas de sol, Proveedores: ['Logística Sur']\n",
      "Producto: Zapatos de vestir, Proveedores: ['Distribuciones Norte']\n",
      "Producto: Chaqueta de cuero, Proveedores: ['Proveedor Central']\n",
      "Producto: Camisa de manga larga, Proveedores: ['Modas Paqui']\n",
      "Producto: Guantes de invierno, Proveedores: ['Proveedor Central']\n",
      "Producto: Zapatos deportivos, Proveedores: ['Proveedor Este']\n",
      "Producto: Pantalón vaquero, Proveedores: ['Distribuciones Norte']\n",
      "Producto: Camiseta de manga corta azul, Proveedores: ['Modas Paqui']\n",
      "Producto: Camiseta de manga corta roja, Proveedores: ['Modas Paqui']\n",
      "Producto: Sombrero de paja, Proveedores: ['Proveedor Este']\n",
      "Producto: Calcetines de algodón, Proveedores: ['Proveedor Este']\n",
      "Producto: Jersey de lana, Proveedores: ['Proveedor Este']\n",
      "Producto: Polo de manga corta verde, Proveedores: ['Modas Paqui']\n",
      "Producto: Traje de baño, Proveedores: ['Logística Sur']\n",
      "Producto: Cinturón de cuero, Proveedores: ['Modas Paqui']\n",
      "Producto: Camiseta de manga corta blanca, Proveedores: ['Modas Paqui']\n",
      "Producto: Camiseta de manga corta negra, Proveedores: ['Modas Paqui']\n",
      "Producto: Falda plisada, Proveedores: ['Distribuciones Norte']\n"
     ]
    }
   ],
   "source": [
    "# 2. Listado de todos los proveedores para un producto\n",
    "pipeline = [\n",
    "    { \"$unwind\": \"$proveedores\" },\n",
    "    {\n",
    "        \"$group\": {\n",
    "            \"_id\": \"$nombre\",\n",
    "            \"proveedores\": { \"$push\": \"$proveedores.nombre\" }\n",
    "        }\n",
    "    },\n",
    "    {\n",
    "        \"$project\": {\n",
    "            \"_id\": 0,\n",
    "            \"nombre_producto\": \"$_id\",\n",
    "            \"proveedores\": 1\n",
    "        }\n",
    "    }\n",
    "]\n",
    "\n",
    "# Ejecuta el pipeline con raw=True\n",
    "proveedores_producto = list(Producto.aggregate(pipeline, raw=True))\n",
    "\n",
    "# Itera sobre los resultados\n",
    "for resultado in proveedores_producto:\n",
    "    print(f\"Producto: {resultado['nombre_producto']}, Proveedores: {resultado['proveedores']}\")\n"
   ]
  },
  {
   "cell_type": "code",
   "execution_count": 4,
   "id": "f56fc400",
   "metadata": {},
   "outputs": [
    {
     "name": "stdout",
     "output_type": "stream",
     "text": [
      "Cliente: Beatriz Gómez, Productos: ['Sombrero de paja', 'Camiseta de manga corta roja', 'Calcetines de algodón', 'Camiseta de manga corta azul', 'Jersey de lana', 'Cinturón de cuero', 'Traje de baño', 'Polo de manga corta verde', 'Camiseta de manga corta negra', 'Bufanda de seda', 'Vestido de fiesta', 'Gafas de sol', 'Chaqueta de cuero', 'Camisa de manga larga', 'Guantes de invierno', 'Zapatos deportivos', 'Pantalón vaquero']\n",
      "Cliente: Luis Martínez, Productos: ['Camisa de manga larga', 'Chaqueta de cuero', 'Pantalón vaquero', 'Camiseta de manga corta negra', 'Camiseta de manga corta roja', 'Gafas de sol', 'Traje de baño', 'Zapatos de vestir']\n",
      "Cliente: Carlos López, Productos: ['Camiseta de manga corta blanca', 'Chaqueta de cuero', 'Zapatos deportivos', 'Falda plisada', 'Calcetines de algodón', 'Camiseta de manga corta azul', 'Bufanda de seda', 'Camiseta de manga corta roja', 'Traje de baño', 'Zapatos de vestir', 'Sombrero de paja']\n",
      "Cliente: Ana Sánchez, Productos: ['Traje de baño', 'Jersey de lana', 'Calcetines de algodón', 'Bufanda de seda', 'Zapatos deportivos']\n",
      "Cliente: María Fernández, Productos: ['Zapatos deportivos', 'Guantes de invierno', 'Sombrero de paja', 'Camiseta de manga corta roja', 'Polo de manga corta verde', 'Jersey de lana', 'Cinturón de cuero', 'Camiseta de manga corta blanca', 'Falda plisada', 'Camiseta de manga corta negra', 'Bufanda de seda', 'Zapatos de vestir', 'Camisa de manga larga', 'Chaqueta de cuero', 'Pantalón vaquero']\n"
     ]
    }
   ],
   "source": [
    "# 3. Listado de todos los productos diferentes comprados por un cliente\n",
    "pipeline = [\n",
    "    { \"$unwind\": \"$productos\" },\n",
    "    {\n",
    "        \"$group\": {\n",
    "            \"_id\": \"$cliente.nombre\",\n",
    "            \"productos\": { \"$addToSet\": \"$productos.nombre\" }\n",
    "        }\n",
    "    },\n",
    "    {\n",
    "        \"$project\": {\n",
    "            \"nombre_cliente\": \"$_id\",\n",
    "            \"productos\": 1,\n",
    "            \"_id\": 0\n",
    "        }\n",
    "    }\n",
    "]\n",
    "\n",
    "# Ejecuta el pipeline con raw=True\n",
    "productos_cliente = list(Compra.aggregate(pipeline, raw=True))\n",
    "\n",
    "# Muestra los resultados\n",
    "for resultado in productos_cliente:\n",
    "    print(f\"Cliente: {resultado['nombre_cliente']}, Productos: {resultado['productos']}\")"
   ]
  },
  {
   "cell_type": "code",
   "execution_count": 5,
   "id": "b49b539a",
   "metadata": {},
   "outputs": [
    {
     "name": "stdout",
     "output_type": "stream",
     "text": [
      "Producto: Camiseta de manga corta azul, Proveedor: Modas Paqui\n",
      "Producto: Camiseta de manga corta blanca, Proveedor: Modas Paqui\n",
      "Producto: Camiseta de manga corta negra, Proveedor: Modas Paqui\n",
      "Producto: Camiseta de manga corta roja, Proveedor: Modas Paqui\n",
      "Producto: Polo de manga corta verde, Proveedor: Modas Paqui\n"
     ]
    }
   ],
   "source": [
    "# 4. Listado de productos vendidos por “Modas Paqui” cuyo nombre contenga “manga corta”\n",
    "pipeline = [\n",
    "    { \"$unwind\": \"$proveedores\" },\n",
    "    {\n",
    "        \"$match\": {\n",
    "            \"proveedores.nombre\": \"Modas Paqui\",\n",
    "            \"nombre\": { \"$regex\": \"manga corta\", \"$options\": \"i\" }\n",
    "        }\n",
    "    },\n",
    "    {\n",
    "        \"$project\": {\n",
    "            \"_id\": 0,\n",
    "            \"nombre_producto\": \"$nombre\",\n",
    "            \"proveedor\": \"$proveedores.nombre\"\n",
    "        }\n",
    "    }\n",
    "]\n",
    "\n",
    "# Ejecuta el pipeline con raw=True\n",
    "productos_manga_corta = list(Producto.aggregate(pipeline, raw=True))\n",
    "\n",
    "for producto in productos_manga_corta:\n",
    "    print(f\"Producto: {producto['nombre_producto']}, Proveedor: {producto['proveedor']}\")"
   ]
  },
  {
   "cell_type": "code",
   "execution_count": 6,
   "id": "5e4f2da9",
   "metadata": {},
   "outputs": [
    {
     "name": "stdout",
     "output_type": "stream",
     "text": [
      "Peso Total (kg): 106.59, Volumen Total (m³): 0.27638\n"
     ]
    }
   ],
   "source": [
    "# 5. Calcular el peso y volumen total de los productos comprados por un cliente un día determinado\n",
    "pipeline = [\n",
    "    {\n",
    "        \"$match\": {\n",
    "            \"cliente.nombre\": \"Beatriz Gómez\",\n",
    "            \"fecha_compra\": datetime(2024, 4, 11)\n",
    "        }\n",
    "    },\n",
    "    { \"$unwind\": \"$productos\" },\n",
    "    {\n",
    "        \"$group\": {\n",
    "            \"_id\": None,\n",
    "            \"peso_total_kg\": { \"$sum\": \"$productos.peso\" },\n",
    "            \"volumen_total_metros\": {\n",
    "                \"$sum\": {\n",
    "                    \"$multiply\": [\n",
    "                        { \"$divide\": [{ \"$toDouble\": \"$productos.dimensiones.ancho\" }, 100] },\n",
    "                        { \"$divide\": [{ \"$toDouble\": \"$productos.dimensiones.alto\" }, 100] },\n",
    "                        { \"$divide\": [{ \"$toDouble\": \"$productos.dimensiones.profundidad\" }, 100] }\n",
    "                    ]\n",
    "                }\n",
    "            }\n",
    "        }\n",
    "    },\n",
    "    {\n",
    "        \"$project\": {\n",
    "            \"_id\": 0,\n",
    "            \"peso_total_kg\": 1,\n",
    "            \"volumen_total_metros\": 1\n",
    "        }\n",
    "    }\n",
    "]\n",
    "\n",
    "# Ejecuta el pipeline con raw=True\n",
    "peso_volumen_cliente = list(Compra.aggregate(pipeline, raw=True))\n",
    "\n",
    "for resultado in peso_volumen_cliente:\n",
    "    print(f\"Peso Total (kg): {resultado['peso_total_kg']}, Volumen Total (m³): {resultado['volumen_total_metros']}\")"
   ]
  },
  {
   "cell_type": "code",
   "execution_count": 7,
   "id": "fabc2782",
   "metadata": {},
   "outputs": [
    {
     "name": "stdout",
     "output_type": "stream",
     "text": [
      "Almacén: Avenida de Andalucía, Promedio de Envíos Mensuales: 1.1428571428571428\n",
      "Almacén: Carrer de la Pau, Promedio de Envíos Mensuales: 2.0\n",
      "Almacén: Calle de Alcalá, Promedio de Envíos Mensuales: 1.1666666666666667\n",
      "Almacén: Calle de la Moda, Promedio de Envíos Mensuales: 2.7142857142857144\n",
      "Almacén: Rua Augusta, Promedio de Envíos Mensuales: 4.0\n"
     ]
    }
   ],
   "source": [
    "# 6. Calcular el número medio de envíos por mes y almacén\n",
    "pipeline = [\n",
    "    { \"$unwind\": \"$productos\" },\n",
    "    { \"$unwind\": \"$productos.proveedores\" },\n",
    "    { \"$unwind\": \"$productos.proveedores.direcciones_almacenes\" },\n",
    "    {\n",
    "        \"$group\": {\n",
    "            \"_id\": {\n",
    "                \"almacen\": \"$productos.proveedores.direcciones_almacenes.calle\",\n",
    "                \"mes\": { \"$month\": \"$fecha_compra\" },\n",
    "                \"año\": { \"$year\": \"$fecha_compra\" }\n",
    "            },\n",
    "            \"total_envios\": { \"$sum\": 1 }\n",
    "        }\n",
    "    },\n",
    "    {\n",
    "        \"$group\": {\n",
    "            \"_id\": \"$_id.almacen\",\n",
    "            \"promedio_envios_mensuales\": { \"$avg\": \"$total_envios\" }\n",
    "        }\n",
    "    },\n",
    "    {\n",
    "        \"$project\": {\n",
    "            \"_id\": 0,\n",
    "            \"almacen\": \"$_id\",\n",
    "            \"promedio_envios_mensuales\": 1\n",
    "        }\n",
    "    }\n",
    "]\n",
    "\n",
    "# Ejecuta el pipeline con raw=True\n",
    "promedio_envios = list(Compra.aggregate(pipeline, raw=True))\n",
    "\n",
    "for almacen in promedio_envios:\n",
    "    print(f\"Almacén: {almacen['almacen']}, Promedio de Envíos Mensuales: {almacen['promedio_envios_mensuales']}\")"
   ]
  },
  {
   "cell_type": "code",
   "execution_count": 8,
   "id": "cedaca37",
   "metadata": {},
   "outputs": [
    {
     "name": "stdout",
     "output_type": "stream",
     "text": [
      "Proveedor: None, Volumen de Facturación: 14796.98\n",
      "Proveedor: Modas Paqui, Volumen de Facturación: 7822.58\n",
      "Proveedor: Proveedor Este, Volumen de Facturación: 7280.96\n"
     ]
    }
   ],
   "source": [
    "# 7. Listado con los tres proveedores con más volumen de facturación\n",
    "pipeline = [\n",
    "    { \"$unwind\": \"$productos\" },\n",
    "    { \"$unwind\": \"$productos.proveedores\" },\n",
    "    {\n",
    "        \"$group\": {\n",
    "            \"_id\": \"$productos.proveedores.nombre\",\n",
    "            \"volumen_facturacion\": { \"$sum\": \"$precio_compra\" }\n",
    "        }\n",
    "    },\n",
    "    { \"$sort\": { \"volumen_facturacion\": -1 } },\n",
    "    { \"$limit\": 3 },\n",
    "    {\n",
    "        \"$project\": {\n",
    "            \"_id\": 0,\n",
    "            \"proveedor\": \"$_id\",\n",
    "            \"volumen_facturacion\": 1\n",
    "        }\n",
    "    }\n",
    "]\n",
    "\n",
    "# Ejecuta el pipeline con raw=True\n",
    "top_proveedores = list(Compra.aggregate(pipeline, raw=True))\n",
    "\n",
    "for proveedor in top_proveedores:\n",
    "    print(f\"Proveedor: {proveedor['proveedor']}, Volumen de Facturación: {proveedor['volumen_facturacion']}\")"
   ]
  },
  {
   "cell_type": "code",
   "execution_count": 9,
   "id": "d13d8584",
   "metadata": {},
   "outputs": [
    {
     "name": "stdout",
     "output_type": "stream",
     "text": [
      "Proveedor: Proveedor Este, Almacén: Rua Augusta, Ciudad: Lisboa, Distancia: 0.0 metros\n"
     ]
    }
   ],
   "source": [
    "# 8. Listado de almacenes cerca de unas coordenadas determinadas (100km de distancia máxima)\n",
    "pipeline = [\n",
    "    {\n",
    "        \"$geoNear\": {\n",
    "            \"near\": { \"type\": \"Point\", \"coordinates\": [-9.137398, 38.710141] },\n",
    "            \"distanceField\": \"distancia\",\n",
    "            \"maxDistance\": 100 * 1000,\n",
    "            \"spherical\": True,\n",
    "            \"query\": { \"direcciones_almacenes.location\": { \"$exists\": True } }\n",
    "        }\n",
    "    },\n",
    "    { \"$unwind\": \"$direcciones_almacenes\" },\n",
    "    { \"$sort\": { \"distancia\": 1 } },\n",
    "    {\n",
    "        \"$project\": {\n",
    "            \"_id\": 0,\n",
    "            \"nombre_proveedor\": \"$nombre\",\n",
    "            \"direccion_almacen\": \"$direcciones_almacenes.calle\",\n",
    "            \"ciudad\": \"$direcciones_almacenes.ciudad\",\n",
    "            \"distancia\": 1,\n",
    "            \"location\": \"$direcciones_almacenes.location\"\n",
    "        }\n",
    "    }\n",
    "]\n",
    "\n",
    "# Ejecuta el pipeline con raw=True\n",
    "almacenes_cercanos = list(Proveedor.aggregate(pipeline, raw=True))\n",
    "\n",
    "for almacen in almacenes_cercanos:\n",
    "    print(f\"Proveedor: {almacen['nombre_proveedor']}, Almacén: {almacen['direccion_almacen']}, \"\n",
    "          f\"Ciudad: {almacen['ciudad']}, Distancia: {almacen['distancia']} metros\")"
   ]
  },
  {
   "cell_type": "code",
   "execution_count": 10,
   "id": "74ae710d",
   "metadata": {},
   "outputs": [],
   "source": [
    "# 9. Listado de compras dentro de un polígono cuyos vértices están definidos\n",
    "pipeline = [\n",
    "    {\n",
    "        \"$match\": {\n",
    "            \"direccion_envio.location\": {\n",
    "                \"$geoWithin\": {\n",
    "                    \"$geometry\": {\n",
    "                        \"type\": \"Polygon\",\n",
    "                        \"coordinates\": [[\n",
    "                            [-3.8880, 40.5687],\n",
    "                            [-3.5499, 40.5687],\n",
    "                            [-3.5499, 40.3120],\n",
    "                            [-3.8880, 40.3120],\n",
    "                            [-3.8880, 40.5687]\n",
    "                        ]]\n",
    "                    }\n",
    "                }\n",
    "            }\n",
    "        }\n",
    "    },\n",
    "    {\n",
    "        \"$project\": {\n",
    "            \"_id\": 0,\n",
    "            \"compra_id\": \"$_id\",\n",
    "            \"cliente\": \"$cliente.nombre\",\n",
    "            \"productos\": \"$productos.nombre\",\n",
    "            \"direccion_envio\": \"$direccion_envio\",\n",
    "            \"location\": \"$direccion_envio.location\"\n",
    "        }\n",
    "    }\n",
    "]\n",
    "\n",
    "# Ejecuta el pipeline con raw=True\n",
    "compras_poligono = list(Compra.aggregate(pipeline, raw=True))\n",
    "\n",
    "for compra in compras_poligono:\n",
    "    print(f\"Compra ID: {compra['compra_id']}, Cliente: {compra['cliente']}, \"\n",
    "          f\"Productos: {compra['productos']}, Dirección: {compra['direccion_envio']}\")"
   ]
  },
  {
   "cell_type": "code",
   "execution_count": 11,
   "id": "821d0d7a",
   "metadata": {},
   "outputs": [
    {
     "name": "stdout",
     "output_type": "stream",
     "text": [
      "{'_id': ObjectId('671e87d36018dfcfed045212'), 'precio_compra': 158.92000000000002, 'fecha_compra': datetime.datetime(2024, 4, 11, 0, 0), 'direccion_envio': None, 'cliente': 'Beatriz Gómez', 'productos': 'Gafas de sol', 'almacen': {'direccion': 'Avenida de Andalucía', 'ciudad': 'Sevilla', 'location': {'type': 'Point', 'coordinates': [-5.963709, 37.387533]}}}\n",
      "{'_id': ObjectId('671e87d36018dfcfed045213'), 'precio_compra': 471.22, 'fecha_compra': datetime.datetime(2024, 4, 11, 0, 0), 'direccion_envio': None, 'cliente': 'Beatriz Gómez', 'productos': 'Traje de baño', 'almacen': {'direccion': 'Avenida de Andalucía', 'ciudad': 'Sevilla', 'location': {'type': 'Point', 'coordinates': [-5.963709, 37.387533]}}}\n"
     ]
    }
   ],
   "source": [
    "# 10. Guardar el listado de compras en una nueva colección\n",
    "pipeline = [\n",
    "    {\n",
    "        \"$match\": {\n",
    "            \"fecha_compra\": datetime(2024, 4, 11)\n",
    "        }\n",
    "    },\n",
    "    { \"$unwind\": \"$productos\" },\n",
    "    { \"$unwind\": \"$productos.proveedores\" },\n",
    "    { \"$unwind\": \"$productos.proveedores.direcciones_almacenes\" },\n",
    "    {\n",
    "        \"$match\": {\n",
    "            \"productos.proveedores.direcciones_almacenes.calle\": \"Avenida de Andalucía\",\n",
    "            \"productos.proveedores.direcciones_almacenes.ciudad\": \"Sevilla\",\n",
    "            \"productos.proveedores.direcciones_almacenes.location.coordinates\": [-5.963709, 37.387533]\n",
    "        }\n",
    "    },\n",
    "    {\n",
    "        \"$project\": {\n",
    "            \"_id\": 1,\n",
    "            \"cliente\": \"$cliente.nombre\",\n",
    "            \"productos\": \"$productos.nombre\",\n",
    "            \"precio_compra\": 1,\n",
    "            \"fecha_compra\": 1,\n",
    "            \"direccion_envio\": 1,\n",
    "            \"almacen\": {\n",
    "                \"direccion\": \"$productos.proveedores.direcciones_almacenes.calle\",\n",
    "                \"ciudad\": \"$productos.proveedores.direcciones_almacenes.ciudad\",\n",
    "                \"location\": \"$productos.proveedores.direcciones_almacenes.location\"\n",
    "            }\n",
    "        }\n",
    "    },\n",
    "    {\n",
    "        \"$out\": \"compras_a_enviar\"\n",
    "    }\n",
    "]\n",
    "\n",
    "Compra.aggregate(pipeline)\n",
    "\n",
    "compras_a_enviar = list(Compra.db.database[\"compras_a_enviar\"].find())\n",
    "for compra in compras_a_enviar:\n",
    "    print(compra)"
   ]
  }
 ],
 "metadata": {
  "kernelspec": {
   "display_name": "virtual",
   "language": "python",
   "name": "python3"
  },
  "language_info": {
   "codemirror_mode": {
    "name": "ipython",
    "version": 3
   },
   "file_extension": ".py",
   "mimetype": "text/x-python",
   "name": "python",
   "nbconvert_exporter": "python",
   "pygments_lexer": "ipython3",
   "version": "3.11.5"
  }
 },
 "nbformat": 4,
 "nbformat_minor": 5
}
