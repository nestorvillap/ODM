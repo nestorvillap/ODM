{
 "cells": [
  {
   "cell_type": "markdown",
   "id": "8908950a-0e75-4c3b-954d-74f1d0265851",
   "metadata": {},
   "source": [
    "# Consultas MONGODB\n",
    "\n",
    "Nicolás Fernández y Néstor Villa"
   ]
  },
  {
   "cell_type": "code",
   "execution_count": 2,
   "id": "91ef9cbb-c79e-4337-85a3-550a1537f4b3",
   "metadata": {},
   "outputs": [],
   "source": [
    "# Importamos las clases y el método init_app\n",
    "from models import Cliente, Producto, Compra, Proveedor, init_app\n",
    "from bson import ObjectId\n",
    "from datetime import datetime\n",
    "\n",
    "# Iniciamos la conexión a la base de datos\n",
    "init_app()"
   ]
  },
  {
   "cell_type": "code",
   "execution_count": 5,
   "id": "a4c84e54",
   "metadata": {},
   "outputs": [
    {
     "data": {
      "text/plain": [
       "[{'compras': ['671e87d26018dfcfed045207', '671e87d36018dfcfed04520c'],\n",
       "  'nombre_cliente': 'Ana Sánchez'},\n",
       " {'compras': ['671e87d26018dfcfed0451fb',\n",
       "   '671e87d26018dfcfed045201',\n",
       "   '671e87d26018dfcfed045208'],\n",
       "  'nombre_cliente': 'Luis Martínez'},\n",
       " {'compras': ['671e87d26018dfcfed0451f6',\n",
       "   '671e87d26018dfcfed0451f8',\n",
       "   '671e87d26018dfcfed0451f9',\n",
       "   '671e87d26018dfcfed0451fa',\n",
       "   '671e87d26018dfcfed0451fd',\n",
       "   '671e87d26018dfcfed0451fe',\n",
       "   '671e87d26018dfcfed045205',\n",
       "   '671e87d26018dfcfed045206',\n",
       "   '671e87d36018dfcfed04520d'],\n",
       "  'nombre_cliente': 'María Fernández'},\n",
       " {'compras': ['671e87d26018dfcfed0451f7',\n",
       "   '671e87d26018dfcfed0451ff',\n",
       "   '671e87d26018dfcfed045200',\n",
       "   '671e87d36018dfcfed045209',\n",
       "   '671e87d36018dfcfed04520f',\n",
       "   '671e87d36018dfcfed045210',\n",
       "   '671e87d36018dfcfed045211',\n",
       "   '671e87d36018dfcfed045212',\n",
       "   '671e87d36018dfcfed045213'],\n",
       "  'nombre_cliente': 'Beatriz Gómez'},\n",
       " {'compras': ['671e87d26018dfcfed0451fc',\n",
       "   '671e87d26018dfcfed045202',\n",
       "   '671e87d26018dfcfed045203',\n",
       "   '671e87d26018dfcfed045204',\n",
       "   '671e87d36018dfcfed04520a',\n",
       "   '671e87d36018dfcfed04520b',\n",
       "   '671e87d36018dfcfed04520e'],\n",
       "  'nombre_cliente': 'Carlos López'}]"
      ]
     },
     "execution_count": 5,
     "metadata": {},
     "output_type": "execute_result"
    }
   ],
   "source": [
    "#1. Listado de todas las compras de un cliente\n",
    "pipeline = [\n",
    "    {\n",
    "        \"$group\": {\n",
    "            \"_id\": \"$cliente.nombre\",\n",
    "            \"compras\": { \"$push\": { \"$toString\": \"$_id\" } }\n",
    "        }\n",
    "    },\n",
    "    {\n",
    "        \"$project\": {\n",
    "            \"nombre_cliente\": \"$_id\",\n",
    "            \"compras\": 1,\n",
    "            \"_id\": 0\n",
    "        }\n",
    "    }\n",
    "]\n",
    "\n",
    "# Ejecuta el pipeline con raw=True\n",
    "compras_cliente = list(Compra.aggregate(pipeline, raw=True))\n",
    "\n",
    "compras_cliente"
   ]
  },
  {
   "cell_type": "code",
   "execution_count": 6,
   "id": "5e7e0b29",
   "metadata": {},
   "outputs": [
    {
     "data": {
      "text/plain": [
       "[{'proveedores': ['Proveedor Este'],\n",
       "  'nombre_producto': 'Calcetines de algodón'},\n",
       " {'proveedores': ['Modas Paqui'],\n",
       "  'nombre_producto': 'Camiseta de manga corta roja'},\n",
       " {'proveedores': ['Proveedor Este'], 'nombre_producto': 'Sombrero de paja'},\n",
       " {'proveedores': ['Proveedor Central'],\n",
       "  'nombre_producto': 'Guantes de invierno'},\n",
       " {'proveedores': ['Proveedor Este'], 'nombre_producto': 'Jersey de lana'},\n",
       " {'proveedores': ['Logística Sur'], 'nombre_producto': 'Traje de baño'},\n",
       " {'proveedores': ['Modas Paqui'],\n",
       "  'nombre_producto': 'Polo de manga corta verde'},\n",
       " {'proveedores': ['Modas Paqui'], 'nombre_producto': 'Cinturón de cuero'},\n",
       " {'proveedores': ['Modas Paqui'],\n",
       "  'nombre_producto': 'Camiseta de manga corta blanca'},\n",
       " {'proveedores': ['Distribuciones Norte'], 'nombre_producto': 'Falda plisada'},\n",
       " {'proveedores': ['Modas Paqui'],\n",
       "  'nombre_producto': 'Camiseta de manga corta negra'},\n",
       " {'proveedores': ['Proveedor Este'], 'nombre_producto': 'Bufanda de seda'},\n",
       " {'proveedores': ['Logística Sur'], 'nombre_producto': 'Gafas de sol'},\n",
       " {'proveedores': ['Proveedor Este'], 'nombre_producto': 'Vestido de fiesta'},\n",
       " {'proveedores': ['Proveedor Central'],\n",
       "  'nombre_producto': 'Chaqueta de cuero'},\n",
       " {'proveedores': ['Distribuciones Norte'],\n",
       "  'nombre_producto': 'Zapatos de vestir'},\n",
       " {'proveedores': ['Modas Paqui'], 'nombre_producto': 'Camisa de manga larga'},\n",
       " {'proveedores': ['Proveedor Este'], 'nombre_producto': 'Zapatos deportivos'},\n",
       " {'proveedores': ['Distribuciones Norte'],\n",
       "  'nombre_producto': 'Pantalón vaquero'},\n",
       " {'proveedores': ['Modas Paqui'],\n",
       "  'nombre_producto': 'Camiseta de manga corta azul'}]"
      ]
     },
     "execution_count": 6,
     "metadata": {},
     "output_type": "execute_result"
    }
   ],
   "source": [
    "# 2. Listado de todos los proveedores para un producto\n",
    "pipeline = [\n",
    "    { \"$unwind\": \"$proveedores\" },\n",
    "    {\n",
    "        \"$group\": {\n",
    "            \"_id\": \"$nombre\",\n",
    "            \"proveedores\": { \"$push\": \"$proveedores.nombre\" }\n",
    "        }\n",
    "    },\n",
    "    {\n",
    "        \"$project\": {\n",
    "            \"_id\": 0,\n",
    "            \"nombre_producto\": \"$_id\",\n",
    "            \"proveedores\": 1\n",
    "        }\n",
    "    }\n",
    "]\n",
    "\n",
    "# Ejecuta el pipeline con raw=True\n",
    "proveedores_producto = list(Producto.aggregate(pipeline, raw=True))\n",
    "\n",
    "proveedores_producto"
   ]
  },
  {
   "cell_type": "code",
   "execution_count": 7,
   "id": "f56fc400",
   "metadata": {},
   "outputs": [
    {
     "data": {
      "text/plain": [
       "[{'productos': ['Bufanda de seda',\n",
       "   'Camiseta de manga corta blanca',\n",
       "   'Chaqueta de cuero',\n",
       "   'Calcetines de algodón',\n",
       "   'Falda plisada',\n",
       "   'Zapatos deportivos',\n",
       "   'Camiseta de manga corta roja',\n",
       "   'Sombrero de paja',\n",
       "   'Zapatos de vestir',\n",
       "   'Traje de baño',\n",
       "   'Camiseta de manga corta azul'],\n",
       "  'nombre_cliente': 'Carlos López'},\n",
       " {'productos': ['Traje de baño',\n",
       "   'Zapatos deportivos',\n",
       "   'Bufanda de seda',\n",
       "   'Jersey de lana',\n",
       "   'Calcetines de algodón'],\n",
       "  'nombre_cliente': 'Ana Sánchez'},\n",
       " {'productos': ['Polo de manga corta verde',\n",
       "   'Cinturón de cuero',\n",
       "   'Jersey de lana',\n",
       "   'Camiseta de manga corta roja',\n",
       "   'Sombrero de paja',\n",
       "   'Falda plisada',\n",
       "   'Camiseta de manga corta negra',\n",
       "   'Camiseta de manga corta blanca',\n",
       "   'Zapatos de vestir',\n",
       "   'Bufanda de seda',\n",
       "   'Zapatos deportivos',\n",
       "   'Guantes de invierno',\n",
       "   'Pantalón vaquero',\n",
       "   'Camisa de manga larga',\n",
       "   'Chaqueta de cuero'],\n",
       "  'nombre_cliente': 'María Fernández'},\n",
       " {'productos': ['Camiseta de manga corta negra',\n",
       "   'Traje de baño',\n",
       "   'Cinturón de cuero',\n",
       "   'Jersey de lana',\n",
       "   'Polo de manga corta verde',\n",
       "   'Camiseta de manga corta roja',\n",
       "   'Sombrero de paja',\n",
       "   'Zapatos deportivos',\n",
       "   'Guantes de invierno',\n",
       "   'Pantalón vaquero',\n",
       "   'Camisa de manga larga',\n",
       "   'Chaqueta de cuero',\n",
       "   'Calcetines de algodón',\n",
       "   'Gafas de sol',\n",
       "   'Vestido de fiesta',\n",
       "   'Camiseta de manga corta azul',\n",
       "   'Bufanda de seda'],\n",
       "  'nombre_cliente': 'Beatriz Gómez'},\n",
       " {'productos': ['Camisa de manga larga',\n",
       "   'Chaqueta de cuero',\n",
       "   'Pantalón vaquero',\n",
       "   'Camiseta de manga corta negra',\n",
       "   'Camiseta de manga corta roja',\n",
       "   'Traje de baño',\n",
       "   'Gafas de sol',\n",
       "   'Zapatos de vestir'],\n",
       "  'nombre_cliente': 'Luis Martínez'}]"
      ]
     },
     "execution_count": 7,
     "metadata": {},
     "output_type": "execute_result"
    }
   ],
   "source": [
    "# 3. Listado de todos los productos diferentes comprados por un cliente\n",
    "pipeline = [\n",
    "    { \"$unwind\": \"$productos\" },\n",
    "    {\n",
    "        \"$group\": {\n",
    "            \"_id\": \"$cliente.nombre\",\n",
    "            \"productos\": { \"$addToSet\": \"$productos.nombre\" }\n",
    "        }\n",
    "    },\n",
    "    {\n",
    "        \"$project\": {\n",
    "            \"nombre_cliente\": \"$_id\",\n",
    "            \"productos\": 1,\n",
    "            \"_id\": 0\n",
    "        }\n",
    "    }\n",
    "]\n",
    "\n",
    "# Ejecuta el pipeline con raw=True\n",
    "productos_cliente = list(Compra.aggregate(pipeline, raw=True))\n",
    "\n",
    "# Muestra los resultados\n",
    "productos_cliente    "
   ]
  },
  {
   "cell_type": "code",
   "execution_count": 8,
   "id": "b49b539a",
   "metadata": {},
   "outputs": [
    {
     "data": {
      "text/plain": [
       "[{'nombre_producto': 'Camiseta de manga corta azul',\n",
       "  'proveedor': 'Modas Paqui'},\n",
       " {'nombre_producto': 'Camiseta de manga corta blanca',\n",
       "  'proveedor': 'Modas Paqui'},\n",
       " {'nombre_producto': 'Camiseta de manga corta negra',\n",
       "  'proveedor': 'Modas Paqui'},\n",
       " {'nombre_producto': 'Camiseta de manga corta roja',\n",
       "  'proveedor': 'Modas Paqui'},\n",
       " {'nombre_producto': 'Polo de manga corta verde', 'proveedor': 'Modas Paqui'}]"
      ]
     },
     "execution_count": 8,
     "metadata": {},
     "output_type": "execute_result"
    }
   ],
   "source": [
    "# 4. Listado de productos vendidos por “Modas Paqui” cuyo nombre contenga “manga corta”\n",
    "pipeline = [\n",
    "    { \"$unwind\": \"$proveedores\" },\n",
    "    {\n",
    "        \"$match\": {\n",
    "            \"proveedores.nombre\": \"Modas Paqui\",\n",
    "            \"nombre\": { \"$regex\": \"manga corta\", \"$options\": \"i\" }\n",
    "        }\n",
    "    },\n",
    "    {\n",
    "        \"$project\": {\n",
    "            \"_id\": 0,\n",
    "            \"nombre_producto\": \"$nombre\",\n",
    "            \"proveedor\": \"$proveedores.nombre\"\n",
    "        }\n",
    "    }\n",
    "]\n",
    "\n",
    "# Ejecuta el pipeline con raw=True\n",
    "productos_manga_corta = list(Producto.aggregate(pipeline, raw=True))\n",
    "\n",
    "productos_manga_corta"
   ]
  },
  {
   "cell_type": "code",
   "execution_count": 9,
   "id": "5e4f2da9",
   "metadata": {},
   "outputs": [
    {
     "data": {
      "text/plain": [
       "[{'peso_total_kg': 106.59, 'volumen_total_metros': 0.27638}]"
      ]
     },
     "execution_count": 9,
     "metadata": {},
     "output_type": "execute_result"
    }
   ],
   "source": [
    "# 5. Calcular el peso y volumen total de los productos comprados por un cliente un día determinado\n",
    "pipeline = [\n",
    "    {\n",
    "        \"$match\": {\n",
    "            \"cliente.nombre\": \"Beatriz Gómez\",\n",
    "            \"fecha_compra\": datetime(2024, 4, 11)\n",
    "        }\n",
    "    },\n",
    "    { \"$unwind\": \"$productos\" },\n",
    "    {\n",
    "        \"$group\": {\n",
    "            \"_id\": None,\n",
    "            \"peso_total_kg\": { \"$sum\": \"$productos.peso\" },\n",
    "            \"volumen_total_metros\": {\n",
    "                \"$sum\": {\n",
    "                    \"$multiply\": [\n",
    "                        { \"$divide\": [{ \"$toDouble\": \"$productos.dimensiones.ancho\" }, 100] },\n",
    "                        { \"$divide\": [{ \"$toDouble\": \"$productos.dimensiones.alto\" }, 100] },\n",
    "                        { \"$divide\": [{ \"$toDouble\": \"$productos.dimensiones.profundidad\" }, 100] }\n",
    "                    ]\n",
    "                }\n",
    "            }\n",
    "        }\n",
    "    },\n",
    "    {\n",
    "        \"$project\": {\n",
    "            \"_id\": 0,\n",
    "            \"peso_total_kg\": 1,\n",
    "            \"volumen_total_metros\": 1\n",
    "        }\n",
    "    }\n",
    "]\n",
    "\n",
    "# Ejecuta el pipeline con raw=True\n",
    "peso_volumen_cliente = list(Compra.aggregate(pipeline, raw=True))\n",
    "\n",
    "peso_volumen_cliente"
   ]
  },
  {
   "cell_type": "code",
   "execution_count": 11,
   "id": "fabc2782",
   "metadata": {},
   "outputs": [
    {
     "data": {
      "text/plain": [
       "[{'promedio_envios_mensuales': 1.1666666666666667,\n",
       "  'almacen': 'Calle de Alcalá'},\n",
       " {'promedio_envios_mensuales': 2.0, 'almacen': 'Carrer de la Pau'},\n",
       " {'promedio_envios_mensuales': 2.7142857142857144,\n",
       "  'almacen': 'Calle de la Moda'},\n",
       " {'promedio_envios_mensuales': 4.0, 'almacen': 'Rua Augusta'},\n",
       " {'promedio_envios_mensuales': 1.1428571428571428,\n",
       "  'almacen': 'Avenida de Andalucía'}]"
      ]
     },
     "execution_count": 11,
     "metadata": {},
     "output_type": "execute_result"
    }
   ],
   "source": [
    "# 6. Calcular el número medio de envíos por mes y almacén\n",
    "pipeline = [\n",
    "    { \"$unwind\": \"$productos\" },\n",
    "    { \"$unwind\": \"$productos.proveedores\" },\n",
    "    { \"$unwind\": \"$productos.proveedores.direcciones_almacenes\" },\n",
    "    {\n",
    "        \"$group\": {\n",
    "            \"_id\": {\n",
    "                \"almacen\": \"$productos.proveedores.direcciones_almacenes.calle\",\n",
    "                \"mes\": { \"$month\": \"$fecha_compra\" },\n",
    "                \"año\": { \"$year\": \"$fecha_compra\" }\n",
    "            },\n",
    "            \"total_envios\": { \"$sum\": 1 }\n",
    "        }\n",
    "    },\n",
    "    {\n",
    "        \"$group\": {\n",
    "            \"_id\": \"$_id.almacen\",\n",
    "            \"promedio_envios_mensuales\": { \"$avg\": \"$total_envios\" }\n",
    "        }\n",
    "    },\n",
    "    {\n",
    "        \"$project\": {\n",
    "            \"_id\": 0,\n",
    "            \"almacen\": \"$_id\",\n",
    "            \"promedio_envios_mensuales\": 1\n",
    "        }\n",
    "    }\n",
    "]\n",
    "\n",
    "# Ejecuta el pipeline con raw=True\n",
    "promedio_envios = list(Compra.aggregate(pipeline, raw=True))\n",
    "\n",
    "promedio_envios"
   ]
  },
  {
   "cell_type": "code",
   "execution_count": 12,
   "id": "cedaca37",
   "metadata": {},
   "outputs": [
    {
     "data": {
      "text/plain": [
       "[{'volumen_facturacion': 14796.98, 'proveedor': None},\n",
       " {'volumen_facturacion': 7822.58, 'proveedor': 'Modas Paqui'},\n",
       " {'volumen_facturacion': 7280.96, 'proveedor': 'Proveedor Este'}]"
      ]
     },
     "execution_count": 12,
     "metadata": {},
     "output_type": "execute_result"
    }
   ],
   "source": [
    "# 7. Listado con los tres proveedores con más volumen de facturación\n",
    "pipeline = [\n",
    "    { \"$unwind\": \"$productos\" },\n",
    "    { \"$unwind\": \"$productos.proveedores\" },\n",
    "    {\n",
    "        \"$group\": {\n",
    "            \"_id\": \"$productos.proveedores.nombre\",\n",
    "            \"volumen_facturacion\": { \"$sum\": \"$precio_compra\" }\n",
    "        }\n",
    "    },\n",
    "    { \"$sort\": { \"volumen_facturacion\": -1 } },\n",
    "    { \"$limit\": 3 },\n",
    "    {\n",
    "        \"$project\": {\n",
    "            \"_id\": 0,\n",
    "            \"proveedor\": \"$_id\",\n",
    "            \"volumen_facturacion\": 1\n",
    "        }\n",
    "    }\n",
    "]\n",
    "\n",
    "# Ejecuta el pipeline con raw=True\n",
    "top_proveedores = list(Compra.aggregate(pipeline, raw=True))\n",
    "\n",
    "top_proveedores"
   ]
  },
  {
   "cell_type": "code",
   "execution_count": 15,
   "id": "d13d8584",
   "metadata": {},
   "outputs": [
    {
     "data": {
      "text/plain": [
       "[{'distancia': 34745.68888511416,\n",
       "  'nombre_proveedor': 'Proveedor Este',\n",
       "  'direccion_almacen': 'Rua Augusta',\n",
       "  'ciudad': 'Lisboa',\n",
       "  'location': {'type': 'Point', 'coordinates': [-9.137398, 38.710141]}}]"
      ]
     },
     "execution_count": 15,
     "metadata": {},
     "output_type": "execute_result"
    }
   ],
   "source": [
    "# 8. Listado de almacenes cerca de unas coordenadas determinadas (100km de distancia máxima)\n",
    "pipeline = [\n",
    "    {\n",
    "        \"$geoNear\": {\n",
    "            \"near\": { \"type\": \"Point\", \"coordinates\": [-9.537398, 38.710141] },\n",
    "            \"distanceField\": \"distancia\",\n",
    "            \"maxDistance\": 100 * 1000,\n",
    "            \"spherical\": True,\n",
    "            \"query\": { \"direcciones_almacenes.location\": { \"$exists\": True } }\n",
    "        }\n",
    "    },\n",
    "    { \"$unwind\": \"$direcciones_almacenes\" },\n",
    "    { \"$sort\": { \"distancia\": 1 } },\n",
    "    {\n",
    "        \"$project\": {\n",
    "            \"_id\": 0,\n",
    "            \"nombre_proveedor\": \"$nombre\",\n",
    "            \"direccion_almacen\": \"$direcciones_almacenes.calle\",\n",
    "            \"ciudad\": \"$direcciones_almacenes.ciudad\",\n",
    "            \"distancia\": 1,\n",
    "            \"location\": \"$direcciones_almacenes.location\"\n",
    "        }\n",
    "    }\n",
    "]\n",
    "\n",
    "# Ejecuta el pipeline con raw=True\n",
    "almacenes_cercanos = list(Proveedor.aggregate(pipeline, raw=True))\n",
    "\n",
    "almacenes_cercanos"
   ]
  },
  {
   "cell_type": "code",
   "execution_count": 4,
   "id": "74ae710d",
   "metadata": {},
   "outputs": [
    {
     "data": {
      "text/plain": [
       "[]"
      ]
     },
     "execution_count": 4,
     "metadata": {},
     "output_type": "execute_result"
    }
   ],
   "source": [
    "# 9. Listado de compras dentro de un polígono cuyos vértices están definidos\n",
    "pipeline = [\n",
    "    {\n",
    "        \"$match\": {\n",
    "            \"direccion_envio.location\": {\n",
    "                \"$geoWithin\": {\n",
    "                    \"$geometry\": {\n",
    "                        \"type\": \"Polygon\",\n",
    "                        \"coordinates\": [[\n",
    "                            [-3.8880, 40.5687],\n",
    "                            [-3.5499, 40.5687],\n",
    "                            [-3.5499, 40.3120],\n",
    "                            [-3.8880, 40.3120],\n",
    "                            [-3.8880, 40.5687]\n",
    "                        ]]\n",
    "                    }\n",
    "                }\n",
    "            }\n",
    "        }\n",
    "    },\n",
    "    {\n",
    "        \"$project\": {\n",
    "            \"_id\": 0,\n",
    "            \"compra_id\": \"$_id\",\n",
    "            \"cliente\": \"$cliente.nombre\",\n",
    "            \"productos\": \"$productos.nombre\",\n",
    "            \"direccion_envio\": \"$direccion_envio\",\n",
    "            \"location\": \"$direccion_envio.location\"\n",
    "        }\n",
    "    }\n",
    "]\n",
    "\n",
    "# Ejecuta el pipeline con raw=True\n",
    "compras_poligono = list(Compra.aggregate(pipeline, raw=True))\n",
    "\n",
    "compras_poligono"
   ]
  },
  {
   "cell_type": "code",
   "execution_count": 16,
   "id": "821d0d7a",
   "metadata": {},
   "outputs": [
    {
     "data": {
      "text/plain": [
       "[{'_id': ObjectId('671e87d36018dfcfed045212'),\n",
       "  'precio_compra': 158.92000000000002,\n",
       "  'fecha_compra': datetime.datetime(2024, 4, 11, 0, 0),\n",
       "  'direccion_envio': None,\n",
       "  'cliente': 'Beatriz Gómez',\n",
       "  'productos': 'Gafas de sol',\n",
       "  'almacen': {'direccion': 'Avenida de Andalucía',\n",
       "   'ciudad': 'Sevilla',\n",
       "   'location': {'type': 'Point', 'coordinates': [-5.963709, 37.387533]}}},\n",
       " {'_id': ObjectId('671e87d36018dfcfed045213'),\n",
       "  'precio_compra': 471.22,\n",
       "  'fecha_compra': datetime.datetime(2024, 4, 11, 0, 0),\n",
       "  'direccion_envio': None,\n",
       "  'cliente': 'Beatriz Gómez',\n",
       "  'productos': 'Traje de baño',\n",
       "  'almacen': {'direccion': 'Avenida de Andalucía',\n",
       "   'ciudad': 'Sevilla',\n",
       "   'location': {'type': 'Point', 'coordinates': [-5.963709, 37.387533]}}}]"
      ]
     },
     "execution_count": 16,
     "metadata": {},
     "output_type": "execute_result"
    }
   ],
   "source": [
    "# 10. Guardar el listado de compras en una nueva colección\n",
    "pipeline = [\n",
    "    {\n",
    "        \"$match\": {\n",
    "            \"fecha_compra\": datetime(2024, 4, 11)\n",
    "        }\n",
    "    },\n",
    "    { \"$unwind\": \"$productos\" },\n",
    "    { \"$unwind\": \"$productos.proveedores\" },\n",
    "    { \"$unwind\": \"$productos.proveedores.direcciones_almacenes\" },\n",
    "    {\n",
    "        \"$match\": {\n",
    "            \"productos.proveedores.direcciones_almacenes.calle\": \"Avenida de Andalucía\",\n",
    "            \"productos.proveedores.direcciones_almacenes.ciudad\": \"Sevilla\",\n",
    "            \"productos.proveedores.direcciones_almacenes.location.coordinates\": [-5.963709, 37.387533]\n",
    "        }\n",
    "    },\n",
    "    {\n",
    "        \"$project\": {\n",
    "            \"_id\": 1,\n",
    "            \"cliente\": \"$cliente.nombre\",\n",
    "            \"productos\": \"$productos.nombre\",\n",
    "            \"precio_compra\": 1,\n",
    "            \"fecha_compra\": 1,\n",
    "            \"direccion_envio\": 1,\n",
    "            \"almacen\": {\n",
    "                \"direccion\": \"$productos.proveedores.direcciones_almacenes.calle\",\n",
    "                \"ciudad\": \"$productos.proveedores.direcciones_almacenes.ciudad\",\n",
    "                \"location\": \"$productos.proveedores.direcciones_almacenes.location\"\n",
    "            }\n",
    "        }\n",
    "    },\n",
    "    {\n",
    "        \"$out\": \"compras_a_enviar\"\n",
    "    }\n",
    "]\n",
    "\n",
    "Compra.aggregate(pipeline)\n",
    "\n",
    "compras_a_enviar = list(Compra.db.database[\"compras_a_enviar\"].find())\n",
    "compras_a_enviar"
   ]
  }
 ],
 "metadata": {
  "kernelspec": {
   "display_name": "virtual",
   "language": "python",
   "name": "python3"
  },
  "language_info": {
   "codemirror_mode": {
    "name": "ipython",
    "version": 3
   },
   "file_extension": ".py",
   "mimetype": "text/x-python",
   "name": "python",
   "nbconvert_exporter": "python",
   "pygments_lexer": "ipython3",
   "version": "3.12.3"
  }
 },
 "nbformat": 4,
 "nbformat_minor": 5
}
